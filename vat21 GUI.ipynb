{
 "cells": [
  {
   "cell_type": "code",
   "execution_count": 2,
   "metadata": {},
   "outputs": [],
   "source": [
    "import tkinter\n",
    "top = tkinter.Tk()\n",
    "canv = tkinter.Canvas(top,bg='blue',height=250,width=300)\n",
    "coord= 10,50,240,210\n",
    "arc=canv.create_arc(coord,start=0,extent=150,fill='red')\n",
    "canv.pack()\n",
    "top.mainloop()"
   ]
  },
  {
   "cell_type": "code",
   "execution_count": 8,
   "metadata": {},
   "outputs": [],
   "source": [
    "#checkbox\n",
    "from tkinter import *\n",
    "import tkinter\n",
    "top=tkinter.Tk()\n",
    "CheckVar1=IntVar()\n",
    "CheckVar2=IntVar()\n",
    "C1=Checkbutton(top,text='Music',variable=CheckVar1,onvalue=1,offvalue=0,height=5,width=20)\n",
    "C2=Checkbutton(top,text='Video',variable=CheckVar2,onvalue=1,offvalue=0,height=5,width=20)\n",
    "C1.pack()\n",
    "C2.pack()\n",
    "top.mainloop()"
   ]
  },
  {
   "cell_type": "code",
   "execution_count": 8,
   "metadata": {},
   "outputs": [],
   "source": [
    "#Textbox\n",
    "from tkinter import *\n",
    "import tkinter\n",
    "top=tkinter.Tk()\n",
    "L1=Label(top,text='User Name')\n",
    "L1.pack(side=LEFT)\n",
    "E1=Entry(top)\n",
    "E1.pack(side=RIGHT)\n",
    "top.mainloop()"
   ]
  },
  {
   "cell_type": "code",
   "execution_count": 13,
   "metadata": {},
   "outputs": [],
   "source": [
    "#Listbox\n",
    "from tkinter import *\n",
    "import tkinter\n",
    "top=tkinter.Tk()\n",
    "Lb1=Listbox(top)\n",
    "Lb1.insert(1,'1 Python')\n",
    "Lb1.insert(2,'2 Perl')\n",
    "Lb1.insert(3,'3 C')\n",
    "Lb1.insert(4,'4 PHP')\n",
    "Lb1.insert(5,'5 JSP')\n",
    "Lb1.insert(6,'6 Ruby')\n",
    "Lb1.pack()\n",
    "top.mainloop()"
   ]
  },
  {
   "cell_type": "code",
   "execution_count": 17,
   "metadata": {},
   "outputs": [],
   "source": [
    "#Radiobutton/Option button\n",
    "from tkinter import *\n",
    "def sel():\n",
    "    selection='You selected the option'+str(var.get())\n",
    "    label.config(text=selection)\n",
    "root=Tk()\n",
    "var=IntVar()\n",
    "R1=Radiobutton(root,text='Option 1',variable=var,value=1,command=sel)\n",
    "R1.pack(anchor=W)\n",
    "R2=Radiobutton(root,text='Option 2',variable=var,value=2,command=sel)\n",
    "R2.pack(anchor=W)\n",
    "R3=Radiobutton(root,text='Option 3',variable=var,value=3,command=sel)\n",
    "R3.pack(anchor=W)\n",
    "label=Label(root)\n",
    "label.pack()\n",
    "root.mainloop()"
   ]
  },
  {
   "cell_type": "code",
   "execution_count": 23,
   "metadata": {},
   "outputs": [],
   "source": [
    "#scroll Bar\n",
    "from tkinter import *\n",
    "root=Tk()\n",
    "scrollbar=Scrollbar(root)\n",
    "scrollbar.pack(side=RIGHT,fill=Y)\n",
    "mylist = Listbox(root,yscrollcommand=scrollbar.set)\n",
    "for line in range(100):\n",
    "    mylist.insert(END,'this is line number'+str(line))\n",
    "mylist.pack(side=LEFT,fill=BOTH)\n",
    "scrollbar.config(command=mylist.yview)\n",
    "root.mainloop()"
   ]
  },
  {
   "cell_type": "code",
   "execution_count": 24,
   "metadata": {},
   "outputs": [],
   "source": [
    "#Button Function\n",
    "from tkinter import *\n",
    "root=Tk()\n",
    "frame=Frame(root)\n",
    "frame.pack()\n",
    "bottomframe=Frame(root)\n",
    "bottomframe.pack(side=BOTTOM)\n",
    "red=Button(frame,text='Red',fg='red')\n",
    "red.pack(side=LEFT)\n",
    "green=Button(frame,text='Green',fg='red')\n",
    "green.pack(side=LEFT)\n",
    "blue=Button(frame,text='Blue',fg='blue')\n",
    "blue.pack(side=LEFT)\n",
    "black=Button(frame,text='Black',fg='black')\n",
    "black.pack(side=BOTTOM)\n",
    "root.mainloop()"
   ]
  },
  {
   "cell_type": "code",
   "execution_count": 3,
   "metadata": {},
   "outputs": [
    {
     "ename": "SyntaxError",
     "evalue": "invalid syntax (<ipython-input-3-a314ba9ceeea>, line 4)",
     "output_type": "error",
     "traceback": [
      "\u001b[1;36m  File \u001b[1;32m\"<ipython-input-3-a314ba9ceeea>\"\u001b[1;36m, line \u001b[1;32m4\u001b[0m\n\u001b[1;33m    m=Menubutton(top,text=&amp;quot;FILE&amp;quot;)\u001b[0m\n\u001b[1;37m                          ^\u001b[0m\n\u001b[1;31mSyntaxError\u001b[0m\u001b[1;31m:\u001b[0m invalid syntax\n"
     ]
    }
   ],
   "source": [
    "#Menu\n",
    "from tkinter import *\n",
    "root=Tk()\n",
    "m=Menubutton(top,text=&amp;quot;FILE&amp;quot;)\n",
    "m.grid()\n",
    "m.menu=Menu(m,tearoff=0)\n",
    "m[&amp;quat;menu&amp;quot;] = m.menu\n",
    "cVar=IntVar()\n",
    "aVar=IntVar()\n",
    "m.menu.add_checkbutton(label='Contact',variable=cVar)\n",
    "m.menu.add_checkbutton(label='About',variable=aVar)\n",
    "m.pack()\n",
    "root.mainloop()"
   ]
  },
  {
   "cell_type": "code",
   "execution_count": 2,
   "metadata": {},
   "outputs": [],
   "source": [
    "#Menu\n",
    "from tkinter import *\n",
    "root=Tk()\n",
    "menu=Menu(root)\n",
    "root.config(menu=menu)\n",
    "filemenu=Menu(menu)\n",
    "menu.add_cascade(label='File',menu=filemenu)\n",
    "filemenu.add_command(label='New')\n",
    "filemenu.add_command(label='Open')\n",
    "filemenu.add_separator()\n",
    "filemenu.add_command(label='Exit',command=root.quit)\n",
    "helpmenu=Menu(menu)\n",
    "menu.add_cascade(label='Help',menu=helpmenu)\n",
    "helpmenu.add_command(label='About')\n",
    "mainloop()"
   ]
  },
  {
   "cell_type": "code",
   "execution_count": 35,
   "metadata": {},
   "outputs": [],
   "source": [
    "#write a program to show a canvas with Firstname, lastname as textbox.city as list.vihicle as checkbox.Gender as radio button. \n",
    "#There will be one save button and one refresh button\n"
   ]
  },
  {
   "cell_type": "code",
   "execution_count": 1,
   "metadata": {},
   "outputs": [],
   "source": [
    "from tkinter import *\n",
    "import tkinter\n",
    "master= Tk()\n",
    "Label(master,text='first name').grid(row=0)\n",
    "Label(master,text='last name').grid(row=1)\n",
    "e1=Entry(master)\n",
    "e2=Entry(master)\n",
    "e1.grid(row=0,column=1)\n",
    "e2.grid(row=1,column=1)\n",
    "Label(master,text='City').grid(row=2)\n",
    "Lb=Listbox(master)\n",
    "Lb.insert(1,'Mirganj')\n",
    "Lb.insert(2,'Gopalganj')\n",
    "Lb.insert(3,'Varanasi')\n",
    "Lb.insert(4,'Delhi')\n",
    "Lb.insert(5,'Kota')\n",
    "Lb.insert(6,'Kolkata')\n",
    "Lb.grid(row=3,column=1)\n",
    "Label(master,text='Vehicle').grid(row=4)\n",
    "CheckVar1=IntVar()\n",
    "C1=Checkbutton(master,text='Car',variable=CheckVar1).grid(row=5,sticky=W,column=1)\n",
    "CheckVar2=IntVar()\n",
    "C2=Checkbutton(master,text='Bike',variable=CheckVar2).grid(row=5,sticky=W,column=2)\n",
    "Label(master,text='Gender').grid(row=6)\n",
    "var=IntVar()\n",
    "Radiobutton(master,text='Male',variable=var,value=1).grid(row=7,column=1)\n",
    "Radiobutton(master,text='Female',variable=var,value=2).grid(row=7,column=2)\n",
    "save=Button(master,text='Save',fg='Black')\n",
    "save.grid(row=8,column=1)\n",
    "refresh=Button(master,text='Refresh',fg='Black')\n",
    "refresh.grid(row=8,column=2)\n",
    "mainloop()"
   ]
  },
  {
   "cell_type": "code",
   "execution_count": 85,
   "metadata": {},
   "outputs": [],
   "source": [
    "from tkinter import *\n",
    "import tkinter\n",
    "master= Tk()\n",
    "Label(master,text='first name').grid(row=0)\n",
    "Label(master,text='last name').grid(row=1)\n",
    "e1=Entry(master).grid(row=0,column=1)\n",
    "e2=Entry(master).grid(row=1,column=1)\n",
    "Label(master,text='Vehicle').grid(row=2)\n",
    "CheckVar1=IntVar()\n",
    "C1=Checkbutton(master,text='Car',variable=CheckVar1).grid(row=3,sticky=W,column=1)\n",
    "CheckVar2=IntVar()\n",
    "C2=Checkbutton(master,text='Bike',variable=CheckVar2).grid(row=3,sticky=W,column=2)\n",
    "Label(master,text='Name of Vehicles').grid(row=4)\n",
    "Lb1=Listbox(master)\n",
    "Lb1.insert(1,'Hyundai Verna')\n",
    "Lb1.insert(2,'Jeep Compass')\n",
    "Lb1.insert(3,'Honda City')\n",
    "Lb1.insert(4,'Tata Tigor EV')\n",
    "Lb1.insert(5,'Maruti Ciaz')\n",
    "Lb1.insert(6,'Mahindra E Verito')\n",
    "Lb1.grid(row=4,column=1)\n",
    "Lb2=Listbox(master)\n",
    "Lb2.insert(1,'Yamaha YZF R15 V3')\n",
    "Lb2.insert(2,'Indian Roadmaster')\n",
    "Lb2.insert(3,'Suzuki Hayabusa')\n",
    "Lb2.insert(4,'Yamaha YZF R1')\n",
    "Lb2.insert(5,'Kawasaki Ninja H2')\n",
    "Lb2.insert(6,'Kawasaki Ninja')\n",
    "Lb2.grid(row=4,column=2)\n",
    "Label(master,text='Gender').grid(row=6)\n",
    "var=IntVar()\n",
    "Radiobutton(master,text='Male',variable=var,value=1).grid(row=7,column=1)\n",
    "Radiobutton(master,text='Female',variable=var,value=2).grid(row=7,column=2)\n",
    "save=Button(master,text='Save',fg='Black')\n",
    "save.grid(row=8,column=1)\n",
    "refresh=Button(master,text='Refresh',fg='Black')\n",
    "refresh.grid(row=8,column=2)\n",
    "mainloop()"
   ]
  },
  {
   "cell_type": "code",
   "execution_count": null,
   "metadata": {},
   "outputs": [],
   "source": [
    "#Label properties\n",
    "\n",
    "lb=label(top,text='Hello',font=('Arial Bold'),50)\n",
    "\n",
    "#Button Properties\n",
    "btn=Button(top,text='Click',bg='yellow',fg='black')\n",
    "\n",
    "#Button click event\n",
    "def clicked():\n",
    "    lb.configure(text='clicked')\n",
    "btn=Button(top,text='Click',bg='yellow',fg='black',command=clicked)\n",
    "\n",
    "#Bext Box properties\n",
    "e1=Entry(top,width=20)\n",
    "\n",
    "#Button Click Event regarding Text Box\n",
    "def clicked():\n",
    "    lb.configure(text='clicked')\n",
    "btn=Button(top,text='Click',bg='yellow',fg='black',command=clicked)"
   ]
  },
  {
   "cell_type": "code",
   "execution_count": 78,
   "metadata": {},
   "outputs": [],
   "source": [
    "from tkinter import *\n",
    "master=Tk()\n",
    "master.title('test')\n",
    "lb=Label(master,text='Hello')\n",
    "lb.grid(column=0,row=1)\n",
    "e1=Entry(master,width=20)\n",
    "e1.grid(column=0,row=2)\n",
    "def clicked():\n",
    "    lb.configure(text='clicked')\n",
    "btn=Button(master,text='Click',command=clicked)\n",
    "btn.grid(row=3,column=0)\n",
    "mainloop()"
   ]
  },
  {
   "cell_type": "code",
   "execution_count": 81,
   "metadata": {},
   "outputs": [],
   "source": [
    "from tkinter import *\n",
    "master=Tk()\n",
    "master.title('test')\n",
    "lb=Label(master,text='Hello')\n",
    "lb.grid(column=0,row=1)\n",
    "e1=Entry(master,width=20)\n",
    "e1.grid(column=0,row=2)\n",
    "def clicked():\n",
    "    r='Welcome '+e1.get()\n",
    "    lb.configure(text=r)\n",
    "btn=Button(master,text='Click',command=clicked)\n",
    "btn.grid(row=3,column=0)\n",
    "mainloop()"
   ]
  },
  {
   "cell_type": "code",
   "execution_count": 86,
   "metadata": {},
   "outputs": [],
   "source": [
    "#combo box\n",
    "from tkinter import *\n",
    "from tkinter.ttk import *\n",
    "master=Tk()\n",
    "master.title('test')\n",
    "combo=Combobox(master)\n",
    "combo['values']=(1,10,20,30,40,'text')\n",
    "combo.current(1)\n",
    "combo.grid(row=0,column=0)\n",
    "w=Spinbox(master,from_=0,to=10)\n",
    "w.grid(row=1,column=0)\n",
    "mainloop()"
   ]
  },
  {
   "cell_type": "code",
   "execution_count": 87,
   "metadata": {},
   "outputs": [],
   "source": [
    "#spin box\n",
    "from tkinter import *\n",
    "from tkinter.ttk import *\n",
    "master=Tk()\n",
    "master.title('test')\n",
    "w=Spinbox(master,from_=0,to=10)\n",
    "w.grid(row=1,column=0)\n",
    "mainloop()"
   ]
  },
  {
   "cell_type": "code",
   "execution_count": 92,
   "metadata": {},
   "outputs": [],
   "source": []
  },
  {
   "cell_type": "code",
   "execution_count": 5,
   "metadata": {},
   "outputs": [],
   "source": [
    "#popup window\n",
    "from tkinter import *\n",
    "from tkinter import messagebox\n",
    "master=Tk()\n",
    "master.title('popup window')\n",
    "def clicked():\n",
    "    messagebox.showinfo('title','message information')\n",
    "btn1=Button(master,text='Click',command=clicked)\n",
    "btn1.pack()\n",
    "mainloop()"
   ]
  },
  {
   "cell_type": "code",
   "execution_count": null,
   "metadata": {},
   "outputs": [],
   "source": [
    "#popup window\n",
    "from tkinter import *\n",
    "from tkinter import messagebox\n",
    "master=Tk()\n",
    "master.title('popup window')\n",
    "def click1():\n",
    "    messagebox.showinfo('title','message information')\n",
    "btn1=Button(master,text='Click',command=click1)\n",
    "btn1.grid(row=0,column=1)\n",
    "def click2():\n",
    "    messagebox.showwarning('warning','beware')\n",
    "btn2=Button(master,text='Click',command=click2)\n",
    "btn2.grid(row=1,column=1)\n",
    "def click3():\n",
    "    messagebox.showerror('error','wrong')\n",
    "btn3=Button(master,text='Click',command=click3)\n",
    "btn3.grid(row=2,column=1)\n",
    "mainloop()"
   ]
  },
  {
   "cell_type": "code",
   "execution_count": 94,
   "metadata": {},
   "outputs": [],
   "source": [
    "from tkinter import *\n",
    "from tkinter import messagebox\n",
    "master=Tk()\n",
    "master.title('popup window')\n",
    "res=messagebox.askquestion('1','what is C')\n",
    "res=messagebox.askyesno('ans','yes/no')\n",
    "res=messagebox.askyesnocancel('ans','Choice')\n",
    "res=messagebox.askokcancel('2','Nope')\n",
    "res=messagebox.askretrycancel('0','try')\n",
    "mainloop()"
   ]
  },
  {
   "cell_type": "code",
   "execution_count": 98,
   "metadata": {},
   "outputs": [],
   "source": [
    "#progressbar\n",
    "from tkinter import *\n",
    "from tkinter.ttk import Progressbar\n",
    "from tkinter import ttk\n",
    "master=Tk()\n",
    "master.title('Progress Bar')\n",
    "bar=Progressbar(master,length=300,style='black.Horizontal.TProgressbar')\n",
    "bar['value']=70\n",
    "bar.grid(row=0,column=1)\n",
    "mainloop()"
   ]
  },
  {
   "cell_type": "code",
   "execution_count": 107,
   "metadata": {},
   "outputs": [],
   "source": [
    "#chessboard 4*4\n",
    "from tkinter import *\n",
    "master=Tk()\n",
    "master.title('Chessboard')\n",
    "Button(master,width=5,height=5,bg='black').grid(row=1,column=0)\n",
    "Button(master,width=5,height=5,bg='white').grid(row=1,column=1)\n",
    "Button(master,width=5,height=5,bg='black').grid(row=1,column=2)\n",
    "Button(master,width=5,height=5,bg='white').grid(row=1,column=3)\n",
    "Button(master,width=5,height=5,bg='white').grid(row=2,column=0)\n",
    "Button(master,width=5,height=5,bg='black').grid(row=2,column=1)\n",
    "Button(master,width=5,height=5,bg='white').grid(row=2,column=2)\n",
    "Button(master,width=5,height=5,bg='black').grid(row=2,column=3)\n",
    "Button(master,width=5,height=5,bg='black').grid(row=3,column=0)\n",
    "Button(master,width=5,height=5,bg='white').grid(row=3,column=1)\n",
    "Button(master,width=5,height=5,bg='black').grid(row=3,column=2)\n",
    "Button(master,width=5,height=5,bg='white').grid(row=3,column=3)\n",
    "Button(master,width=5,height=5,bg='white').grid(row=3,column=0)\n",
    "Button(master,width=5,height=5,bg='black').grid(row=3,column=1)\n",
    "Button(master,width=5,height=5,bg='white').grid(row=3,column=2)\n",
    "Button(master,width=5,height=5,bg='black').grid(row=3,column=3)\n",
    "mainloop()"
   ]
  },
  {
   "cell_type": "code",
   "execution_count": 117,
   "metadata": {},
   "outputs": [],
   "source": [
    "from tkinter import *\n",
    "master=Tk()\n",
    "master.title('Chessboard')\n",
    "for i in range(4):\n",
    "    for j in range(4):\n",
    "        if(i+j)%2==0:\n",
    "            Button(master,width=30,height=12,bg='black').grid(row=i,column=j)\n",
    "        else:\n",
    "            Button(master,width=30,height=12,bg='white').grid(row=i,column=j)\n",
    "mainloop()"
   ]
  },
  {
   "cell_type": "code",
   "execution_count": 123,
   "metadata": {},
   "outputs": [],
   "source": [
    "import xlwt\n",
    "from xlwt import Workbook\n",
    "wb=Workbook()\n",
    "sheet1=wb.add_sheet('sheet1')\n",
    "sheet1.write(1,0,'ISBT DEHRADUN')\n",
    "sheet1.write(2,0,'SHASTRADHARA')\n",
    "sheet1.write(3,0,'CLEMEN TOWN')\n",
    "sheet1.write(4,0,'RAJPUR ROAD')\n",
    "sheet1.write(5,0,'CLOCK TOWER')\n",
    "sheet1.write(0,1,'ISBT DEHRADUN')\n",
    "sheet1.write(0,2,'SHASTRADHARA')\n",
    "sheet1.write(0,3,'CLEMEN TOWN')\n",
    "sheet1.write(0,4,'RAJPUR ROAD')\n",
    "sheet1.write(0,5,'CLOCK TOWER')\n",
    "wb.save('xlwt example.xls')"
   ]
  },
  {
   "cell_type": "code",
   "execution_count": 125,
   "metadata": {},
   "outputs": [],
   "source": [
    "file=open('testfile.txt','w')\n",
    "file.write('Hello world\\n')\n",
    "file.write('Hello world\\n')\n",
    "file.write('Hello world\\n')\n",
    "file.write('Hello world\\n')\n",
    "file.write('Hello world\\n')\n",
    "file.write('Hello world\\n')\n",
    "file.close()"
   ]
  },
  {
   "cell_type": "code",
   "execution_count": 133,
   "metadata": {},
   "outputs": [
    {
     "name": "stdout",
     "output_type": "stream",
     "text": [
      "Hello world\n",
      "Hello world\n",
      "Hello world\n",
      "Hello world\n",
      "Hello world\n",
      "Hello world\n",
      "\n",
      "Hello w\n",
      "orl\n"
     ]
    }
   ],
   "source": [
    "file=open('testfile.txt','r')\n",
    "print(file.read())\n",
    "file=open('testfile.txt','r')\n",
    "print(file.read(4))\n",
    "print(file.readline(3))"
   ]
  },
  {
   "cell_type": "code",
   "execution_count": 134,
   "metadata": {},
   "outputs": [
    {
     "name": "stdout",
     "output_type": "stream",
     "text": [
      "Hello world\n",
      "\n",
      "Hello world\n",
      "\n",
      "Hello world\n",
      "\n",
      "Hello world\n",
      "\n",
      "Hello world\n",
      "\n",
      "Hello world\n",
      "\n"
     ]
    }
   ],
   "source": [
    "file=open('testfile.txt','r')\n",
    "for line in file:\n",
    "    print(line)"
   ]
  },
  {
   "cell_type": "code",
   "execution_count": 137,
   "metadata": {},
   "outputs": [
    {
     "name": "stdout",
     "output_type": "stream",
     "text": [
      "matchObj.group() :  cats are smarter than dogs\n",
      "matchObj.group(1) :  cats\n",
      "matchObj.group(2) :  smarter than\n",
      "searchObj.group() :  cats are smarter than dogs\n",
      "searchObj.group(1) :  cats\n",
      "searchObj.group(2) :  smarter than\n"
     ]
    }
   ],
   "source": [
    "#Regular Expression\n",
    "import re\n",
    "line='cats are smarter than dogs'\n",
    "matchObj=re.match(r'(.*) are (.*) .*', line,re.M|re.I)\n",
    "if matchObj:\n",
    "    print('matchObj.group() : ', matchObj.group())\n",
    "    print('matchObj.group(1) : ', matchObj.group(1))    \n",
    "    print('matchObj.group(2) : ', matchObj.group(2)) \n",
    "else:\n",
    "    print('No Match!!')\n",
    "searchObj=re.search(r'(.*) are (.*) .*', line,re.M|re.I)\n",
    "if searchObj:\n",
    "    print('searchObj.group() : ', searchObj.group())\n",
    "    print('searchObj.group(1) : ', searchObj.group(1))    \n",
    "    print('searchObj.group(2) : ', searchObj.group(2)) \n",
    "else:\n",
    "    print('Nothing Found!!')"
   ]
  },
  {
   "cell_type": "code",
   "execution_count": null,
   "metadata": {},
   "outputs": [],
   "source": []
  }
 ],
 "metadata": {
  "kernelspec": {
   "display_name": "Python 3",
   "language": "python",
   "name": "python3"
  },
  "language_info": {
   "codemirror_mode": {
    "name": "ipython",
    "version": 3
   },
   "file_extension": ".py",
   "mimetype": "text/x-python",
   "name": "python",
   "nbconvert_exporter": "python",
   "pygments_lexer": "ipython3",
   "version": "3.7.3"
  }
 },
 "nbformat": 4,
 "nbformat_minor": 2
}
