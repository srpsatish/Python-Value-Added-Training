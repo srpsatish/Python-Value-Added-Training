{
 "cells": [
  {
   "cell_type": "code",
   "execution_count": null,
   "metadata": {},
   "outputs": [],
   "source": [
    "import numpy as np"
   ]
  },
  {
   "cell_type": "markdown",
   "metadata": {},
   "source": [
    "3+4"
   ]
  },
  {
   "cell_type": "code",
   "execution_count": 1,
   "metadata": {},
   "outputs": [
    {
     "data": {
      "text/plain": [
       "7"
      ]
     },
     "execution_count": 1,
     "metadata": {},
     "output_type": "execute_result"
    }
   ],
   "source": [
    "3+4"
   ]
  },
  {
   "cell_type": "code",
   "execution_count": 2,
   "metadata": {},
   "outputs": [],
   "source": [
    "import numpy as np"
   ]
  },
  {
   "cell_type": "code",
   "execution_count": null,
   "metadata": {},
   "outputs": [],
   "source": [
    "import numpy\n",
    "from numpy import *\n",
    "from numpy import ones\n",
    "import numpy as np\n",
    "from numpy import ones as npones"
   ]
  },
  {
   "cell_type": "code",
   "execution_count": 4,
   "metadata": {},
   "outputs": [
    {
     "name": "stdout",
     "output_type": "stream",
     "text": [
      "Array is of type <class 'numpy.ndarray'>\n",
      "No of dimensions: 2\n",
      "Shape of array: (2, 3)\n",
      "Size of array 6\n",
      "Array stores elements of type int32\n"
     ]
    }
   ],
   "source": [
    "import numpy as np\n",
    "arr=np.array([[1,2,3],[4,2,5]])\n",
    "print('Array is of type',type(arr))\n",
    "print('No of dimensions:',arr.ndim)\n",
    "print('Shape of array:',arr.shape)\n",
    "print('Size of array',arr.size)\n",
    "print('Array stores elements of type',arr.dtype)"
   ]
  },
  {
   "cell_type": "code",
   "execution_count": 8,
   "metadata": {},
   "outputs": [
    {
     "name": "stdout",
     "output_type": "stream",
     "text": [
      "Array created using passed list:\n",
      " [[1. 2. 4.]\n",
      " [5. 8. 7.]]\n"
     ]
    }
   ],
   "source": [
    "a=np.array([[1,2,4],[5,8,7]],dtype='float')\n",
    "print('Array created using passed list:\\n',a)"
   ]
  },
  {
   "cell_type": "code",
   "execution_count": 9,
   "metadata": {},
   "outputs": [
    {
     "name": "stdout",
     "output_type": "stream",
     "text": [
      "\n",
      "Array created using passed list:\n",
      " [1 3 2]\n"
     ]
    }
   ],
   "source": [
    "b=np.array((1,3,2))\n",
    "print('\\nArray created using passed tuple:\\n',b)"
   ]
  },
  {
   "cell_type": "code",
   "execution_count": 11,
   "metadata": {},
   "outputs": [
    {
     "name": "stdout",
     "output_type": "stream",
     "text": [
      "\n",
      "An array initialised with all zeros:\n",
      " [[0. 0. 0. 0.]\n",
      " [0. 0. 0. 0.]\n",
      " [0. 0. 0. 0.]]\n"
     ]
    }
   ],
   "source": [
    "c=np.zeros((3,4))\n",
    "print('\\nAn array initialised with all zeros:\\n',c)"
   ]
  },
  {
   "cell_type": "code",
   "execution_count": 12,
   "metadata": {},
   "outputs": [
    {
     "name": "stdout",
     "output_type": "stream",
     "text": [
      "\n",
      "An array initialized with all 6s.Array type is complex:\n",
      " [[6.+0.j 6.+0.j 6.+0.j]\n",
      " [6.+0.j 6.+0.j 6.+0.j]\n",
      " [6.+0.j 6.+0.j 6.+0.j]]\n"
     ]
    }
   ],
   "source": [
    "d=np.full((3,3),6,dtype='complex')\n",
    "print('\\nAn array initialized with all 6s.''Array type is complex:\\n',d)"
   ]
  },
  {
   "cell_type": "code",
   "execution_count": 19,
   "metadata": {},
   "outputs": [
    {
     "name": "stdout",
     "output_type": "stream",
     "text": [
      "\n",
      "A random(garbage value) array:\n",
      " [[0.66801979 0.28622739]\n",
      " [0.27776717 0.80394206]]\n"
     ]
    }
   ],
   "source": [
    "e=np.random.random((2,2))\n",
    "print('\\nA random(garbage value) array:\\n',e)"
   ]
  },
  {
   "cell_type": "code",
   "execution_count": 20,
   "metadata": {},
   "outputs": [
    {
     "name": "stdout",
     "output_type": "stream",
     "text": [
      "\n",
      "A sequential array with steps of 5:\n",
      " [ 0  5 10 15 20 25]\n"
     ]
    }
   ],
   "source": [
    "f=np.arange(0,30,5)\n",
    "print('\\nA sequential array with steps of 5:\\n',f)"
   ]
  },
  {
   "cell_type": "code",
   "execution_count": 22,
   "metadata": {},
   "outputs": [
    {
     "name": "stdout",
     "output_type": "stream",
     "text": [
      "\n",
      "A sequential array with steps of 5:\n",
      " [10 13 16 19 22 25 28 31 34 37 40 43 46 49 52 55 58 61 64 67 70 73 76 79\n",
      " 82 85 88 91 94 97]\n"
     ]
    }
   ],
   "source": [
    "f=np.arange(10,100,3)\n",
    "print('\\nA sequential array with steps of 5:\\n',f)"
   ]
  },
  {
   "cell_type": "code",
   "execution_count": 23,
   "metadata": {},
   "outputs": [
    {
     "name": "stdout",
     "output_type": "stream",
     "text": [
      "\n",
      "A sequential array with 10 values between0 and 5:\n",
      " [0.         0.55555556 1.11111111 1.66666667 2.22222222 2.77777778\n",
      " 3.33333333 3.88888889 4.44444444 5.        ]\n"
     ]
    }
   ],
   "source": [
    "g=np.linspace(0,5,10)\n",
    "print('\\nA sequential array with 10 values between''0 and 5:\\n',g)"
   ]
  },
  {
   "cell_type": "code",
   "execution_count": 24,
   "metadata": {},
   "outputs": [
    {
     "name": "stdout",
     "output_type": "stream",
     "text": [
      "\n",
      "Original array:\n",
      " [[1 2 3 4]\n",
      " [5 2 4 2]\n",
      " [1 2 0 4]]\n",
      "Reshaped array:/n [[[1 2 3]\n",
      "  [4 5 2]]\n",
      "\n",
      " [[4 2 1]\n",
      "  [2 0 4]]]\n"
     ]
    }
   ],
   "source": [
    "arr=np.array([[1,2,3,4],[5,2,4,2],[1,2,0,4]])\n",
    "print('\\nOriginal array:\\n',arr)\n",
    "newarr=arr.reshape(2,2,3)\n",
    "print('Reshaped array:/n',newarr)"
   ]
  },
  {
   "cell_type": "code",
   "execution_count": 27,
   "metadata": {},
   "outputs": [
    {
     "name": "stdout",
     "output_type": "stream",
     "text": [
      "\n",
      "Original array:\n",
      " [[1 2 3 4]\n",
      " [5 2 4 2]\n",
      " [1 2 0 4]]\n",
      "Reshaped array:/n [[[1 2 3]\n",
      "  [4 5 2]]\n",
      "\n",
      " [[4 2 1]\n",
      "  [2 0 4]]]\n"
     ]
    }
   ],
   "source": [
    "arr=np.array([[1,2,3,4],[5,2,4,2],[1,2,0,4]])\n",
    "print('\\nOriginal array:\\n',arr)\n",
    "newarr=arr.reshape(2,2,3)\n",
    "print('Reshaped array:/n',newarr)"
   ]
  },
  {
   "cell_type": "code",
   "execution_count": 116,
   "metadata": {},
   "outputs": [
    {
     "name": "stdout",
     "output_type": "stream",
     "text": [
      "Flattened array:\n",
      " [1 2 3 4 5 6 7 8]\n",
      "[[1 2 3 4]\n",
      " [5 6 7 8]]\n"
     ]
    }
   ],
   "source": [
    "arr=np.array([[1,2,3,4],[5,6,7,8]])\n",
    "f1=arr.flatten()\n",
    "print('Flattened array:\\n',f1)"
   ]
  },
  {
   "cell_type": "code",
   "execution_count": 33,
   "metadata": {},
   "outputs": [
    {
     "name": "stdout",
     "output_type": "stream",
     "text": [
      "Array with first two rows and alternatecolumn(0 and 2):\n",
      " [[1 4]\n",
      " [5 2]\n",
      " [1 4]]\n"
     ]
    }
   ],
   "source": [
    "arr=np.array([[1,2,3,4],[5,2,4,2],[1,2,0,4],[5,3,1,0]])\n",
    "temp=arr[:2,::2]\n",
    "print('Array with first two rows and alternate''column(0 and 2):\\n',temp)"
   ]
  },
  {
   "cell_type": "code",
   "execution_count": 35,
   "metadata": {},
   "outputs": [
    {
     "name": "stdout",
     "output_type": "stream",
     "text": [
      "Array with first two rows and alternatecolumn(0 and 2):\n",
      " [[1 4]\n",
      " [5 2]\n",
      " [1 4]]\n"
     ]
    }
   ],
   "source": [
    "arr=np.array([[1,2,3,4],[5,2,4,2],[1,2,0,4],[5,3,1,0]])\n",
    "temp=arr[:3,::3]\n",
    "print('Array with first three rows and alternate''column(0 and 3):\\n',temp)"
   ]
  },
  {
   "cell_type": "code",
   "execution_count": 38,
   "metadata": {},
   "outputs": [
    {
     "name": "stdout",
     "output_type": "stream",
     "text": [
      "\n",
      "Elements at indices (0,3),(1,2),(2,1),(3,0):\n",
      " [4 4 2 5]\n"
     ]
    }
   ],
   "source": [
    "temp=arr[[0,1,2,3],[3,2,1,0]]\n",
    "print('\\nElements at indices (0,3),(1,2),(2,1),''(3,0):\\n',temp)"
   ]
  },
  {
   "cell_type": "code",
   "execution_count": 46,
   "metadata": {},
   "outputs": [
    {
     "name": "stdout",
     "output_type": "stream",
     "text": [
      "\n",
      "Boolean data\n",
      " [1 2 3 4 5 2 4 2 1 2 4 5 3 1]\n"
     ]
    }
   ],
   "source": [
    "cond=arr>0 #cond is boolean array\n",
    "temp=arr[cond]\n",
    "print('\\nBoolean data\\n',temp)"
   ]
  },
  {
   "cell_type": "code",
   "execution_count": 40,
   "metadata": {},
   "outputs": [
    {
     "name": "stdout",
     "output_type": "stream",
     "text": [
      "Adding 1 to every element: [2 3 6 4]\n",
      "subtracting 3 from each element: [-2 -1  2  0]\n",
      "multiplying each element by 10: [10 20 50 30]\n",
      "Squaring each element: [ 1  4 25  9]\n",
      "Doubled each element of original array: [ 2  4 10  6]\n"
     ]
    }
   ],
   "source": [
    "a=np.array([1,2,5,3])\n",
    "print('Adding 1 to every element:',a+1)\n",
    "print('subtracting 3 from each element:',a-3)\n",
    "print('multiplying each element by 10:',a*10)\n",
    "print('Squaring each element:',a**2)\n",
    "a *=2\n",
    "print('Doubled each element of original array:',a)\n",
    "\n",
    "\n"
   ]
  },
  {
   "cell_type": "code",
   "execution_count": 45,
   "metadata": {},
   "outputs": [
    {
     "name": "stdout",
     "output_type": "stream",
     "text": [
      "original array: [[1 2 3]\n",
      " [3 4 5]\n",
      " [9 6 0]]\n",
      "transpose of original array: [[1 3 9]\n",
      " [2 4 6]\n",
      " [3 5 0]]\n"
     ]
    }
   ],
   "source": [
    "a=np.array([[1,2,3],[3,4,5],[9,6,0]])\n",
    "print('original array:',a)\n",
    "print('transpose of original array:',a.T)"
   ]
  },
  {
   "cell_type": "code",
   "execution_count": 52,
   "metadata": {},
   "outputs": [
    {
     "name": "stdout",
     "output_type": "stream",
     "text": [
      "Largest element is: 7\n",
      "Row-wise maximum element: [4 5 6 7]\n",
      "Row-wise minimum element: [1 2 1 0]\n",
      "Sum of all arrays elements:  47\n"
     ]
    }
   ],
   "source": [
    "#Array operation\n",
    "arr=np.array([[1,2,3,4],[5,2,4,2],[1,2,6,4],[7,3,1,0]])\n",
    "print('Largest element is:',arr.max())\n",
    "print('Row-wise maximum element:',arr.max(axis=1))\n",
    "print('Row-wise minimum element:',arr.min(axis=0))\n",
    "print('Sum of all arrays elements: ',arr.sum())"
   ]
  },
  {
   "cell_type": "code",
   "execution_count": 54,
   "metadata": {},
   "outputs": [
    {
     "name": "stdout",
     "output_type": "stream",
     "text": [
      "Array sum:\n",
      " [[ 6  8]\n",
      " [10 12]]\n",
      "Array multiplication:\n",
      " [[ 5 12]\n",
      " [21 32]]\n",
      "Matrix multiplication:\n",
      " [[19 22]\n",
      " [43 50]]\n"
     ]
    }
   ],
   "source": [
    "a=np.array([[1,2],[3,4]])\n",
    "b=np.array([[5,6],[7,8]])\n",
    "print('Array sum:\\n',a+b)\n",
    "print('Array multiplication:\\n',a*b)\n",
    "print('Matrix multiplication:\\n',a.dot(b))"
   ]
  },
  {
   "cell_type": "code",
   "execution_count": 56,
   "metadata": {},
   "outputs": [
    {
     "name": "stdout",
     "output_type": "stream",
     "text": [
      "Sine value of array elements:\n",
      " [0.0000000e+00 1.0000000e+00 1.2246468e-16]\n"
     ]
    }
   ],
   "source": [
    "a=np.array([0, np.pi/2,np.pi])\n",
    "print('Sine value of array elements:\\n',np.sin(a))"
   ]
  },
  {
   "cell_type": "code",
   "execution_count": 59,
   "metadata": {},
   "outputs": [
    {
     "name": "stdout",
     "output_type": "stream",
     "text": [
      "Exponent of array elements: [ 1.          2.71828183  7.3890561  20.08553692]\n",
      "Square root of every element [0.         1.         1.41421356 1.73205081]\n"
     ]
    }
   ],
   "source": [
    "a=np.array([0,1,2,3])\n",
    "print('Exponent of array elements:',np.exp(a))\n",
    "print('Square root of every element',np.sqrt(a))"
   ]
  },
  {
   "cell_type": "code",
   "execution_count": 64,
   "metadata": {},
   "outputs": [
    {
     "name": "stdout",
     "output_type": "stream",
     "text": [
      "Array elements in sorted order:\n",
      " [1 1 2 2 2 2 3 4 4 4 5 6]\n",
      "Row wise sorted array:\n",
      " [[1 2 3 4]\n",
      " [2 2 4 5]\n",
      " [1 2 4 6]]\n",
      "Column wise sort by applying merge sort:\n",
      " [[1 2 3 2]\n",
      " [1 2 4 4]\n",
      " [5 2 6 4]]\n"
     ]
    }
   ],
   "source": [
    "arr=np.array([[1,2,3,4],\n",
    "              [5,2,4,2],\n",
    "              [1,2,6,4]])\n",
    "print('Array elements in sorted order:\\n',np.sort(arr,axis=None))\n",
    "print('Row wise sorted array:\\n',np.sort(arr,axis=1))\n",
    "print('Column wise sort by applying merge sort:\\n',np.sort(arr,axis=0,kind='mergesort'))"
   ]
  },
  {
   "cell_type": "code",
   "execution_count": 67,
   "metadata": {},
   "outputs": [
    {
     "name": "stdout",
     "output_type": "stream",
     "text": [
      "\n",
      "Array sorted by names:\n",
      " [(b'Aakash', 2009, 9. ) (b'Ajay', 2008, 8.7) (b'Hrithik', 2009, 8.5)\n",
      " (b'Pankaj', 2008, 7.9)]\n",
      "sorted data [(b'Pankaj', 2008, 7.9) (b'Ajay', 2008, 8.7) (b'Hrithik', 2009, 8.5)\n",
      " (b'Aakash', 2009, 9. )]\n"
     ]
    }
   ],
   "source": [
    "dtypes=[('name','S10'),('grad_year', int),('cgpa',float)]\n",
    "values=[('Hrithik',2009,8.5),('Ajay',2008,8.7),('Pankaj',2008,7.9),('Aakash',2009,9.0)]\n",
    "arr=np.array(values, dtype=dtypes)\n",
    "print('\\nArray sorted by names:\\n',np.sort(arr,order='name'))\n",
    "print('sorted data',np.sort(arr,order=['grad_year','cgpa']))"
   ]
  },
  {
   "cell_type": "code",
   "execution_count": 73,
   "metadata": {},
   "outputs": [
    {
     "data": {
      "text/plain": [
       "<matplotlib.axes._axes.Axes at 0x1b490c8cac8>"
      ]
     },
     "execution_count": 73,
     "metadata": {},
     "output_type": "execute_result"
    },
    {
     "data": {
      "image/png": "[encoded data removed]",
      "text/plain": [
       "<Figure size 432x288 with 1 Axes>"
      ]
     },
     "metadata": {
      "needs_background": "light"
     },
     "output_type": "display_data"
    }
   ],
   "source": [
    "import matplotlib.pyplot as plt\n",
    "import numpy as np\n",
    "fig=plt.figure()\n",
    "fig.add_axes([0,1,1,1])"
   ]
  },
  {
   "cell_type": "code",
   "execution_count": 78,
   "metadata": {},
   "outputs": [
    {
     "data": {
      "image/png": "[encoded data removed]",
      "text/plain": [
       "<Figure size 1440x720 with 1 Axes>"
      ]
     },
     "metadata": {
      "needs_background": "light"
     },
     "output_type": "display_data"
    }
   ],
   "source": [
    "import matplotlib.pyplot as plt\n",
    "import numpy as np\n",
    "fig=plt.figure(figsize=(20,10))\n",
    "a=fig.add_subplot()\n",
    "a.scatter(np.linspace(0,1,6),np.linspace(0,6,6))\n",
    "plt.show()"
   ]
  },
  {
   "cell_type": "code",
   "execution_count": 77,
   "metadata": {},
   "outputs": [
    {
     "data": {
      "image/png": "[encoded data removed]",
      "text/plain": [
       "<Figure size 1440x720 with 2 Axes>"
      ]
     },
     "metadata": {
      "needs_background": "light"
     },
     "output_type": "display_data"
    }
   ],
   "source": [
    "import matplotlib.pyplot as plt\n",
    "import numpy as np\n",
    "fig=plt.figure(figsize=(20,10))\n",
    "a=fig.add_subplot(111)\n",
    "b=fig.add_subplot(122)\n",
    "a.bar([1,2,3],[2,3,4])\n",
    "b.bar([0,1,2.5],[2,3,4])\n",
    "plt.show()"
   ]
  },
  {
   "cell_type": "code",
   "execution_count": 80,
   "metadata": {},
   "outputs": [
    {
     "data": {
      "text/plain": [
       "array([-3.14159265e+00, -3.11017673e+00, -3.07876080e+00, -3.04734487e+00,\n",
       "       -3.01592895e+00, -2.98451302e+00, -2.95309709e+00, -2.92168117e+00,\n",
       "       -2.89026524e+00, -2.85884931e+00, -2.82743339e+00, -2.79601746e+00,\n",
       "       -2.76460154e+00, -2.73318561e+00, -2.70176968e+00, -2.67035376e+00,\n",
       "       -2.63893783e+00, -2.60752190e+00, -2.57610598e+00, -2.54469005e+00,\n",
       "       -2.51327412e+00, -2.48185820e+00, -2.45044227e+00, -2.41902634e+00,\n",
       "       -2.38761042e+00, -2.35619449e+00, -2.32477856e+00, -2.29336264e+00,\n",
       "       -2.26194671e+00, -2.23053078e+00, -2.19911486e+00, -2.16769893e+00,\n",
       "       -2.13628300e+00, -2.10486708e+00, -2.07345115e+00, -2.04203522e+00,\n",
       "       -2.01061930e+00, -1.97920337e+00, -1.94778745e+00, -1.91637152e+00,\n",
       "       -1.88495559e+00, -1.85353967e+00, -1.82212374e+00, -1.79070781e+00,\n",
       "       -1.75929189e+00, -1.72787596e+00, -1.69646003e+00, -1.66504411e+00,\n",
       "       -1.63362818e+00, -1.60221225e+00, -1.57079633e+00, -1.53938040e+00,\n",
       "       -1.50796447e+00, -1.47654855e+00, -1.44513262e+00, -1.41371669e+00,\n",
       "       -1.38230077e+00, -1.35088484e+00, -1.31946891e+00, -1.28805299e+00,\n",
       "       -1.25663706e+00, -1.22522113e+00, -1.19380521e+00, -1.16238928e+00,\n",
       "       -1.13097336e+00, -1.09955743e+00, -1.06814150e+00, -1.03672558e+00,\n",
       "       -1.00530965e+00, -9.73893723e-01, -9.42477796e-01, -9.11061870e-01,\n",
       "       -8.79645943e-01, -8.48230016e-01, -8.16814090e-01, -7.85398163e-01,\n",
       "       -7.53982237e-01, -7.22566310e-01, -6.91150384e-01, -6.59734457e-01,\n",
       "       -6.28318531e-01, -5.96902604e-01, -5.65486678e-01, -5.34070751e-01,\n",
       "       -5.02654825e-01, -4.71238898e-01, -4.39822972e-01, -4.08407045e-01,\n",
       "       -3.76991118e-01, -3.45575192e-01, -3.14159265e-01, -2.82743339e-01,\n",
       "       -2.51327412e-01, -2.19911486e-01, -1.88495559e-01, -1.57079633e-01,\n",
       "       -1.25663706e-01, -9.42477796e-02, -6.28318531e-02, -3.14159265e-02,\n",
       "        4.44089210e-16,  3.14159265e-02,  6.28318531e-02,  9.42477796e-02,\n",
       "        1.25663706e-01,  1.57079633e-01,  1.88495559e-01,  2.19911486e-01,\n",
       "        2.51327412e-01,  2.82743339e-01,  3.14159265e-01,  3.45575192e-01,\n",
       "        3.76991118e-01,  4.08407045e-01,  4.39822972e-01,  4.71238898e-01,\n",
       "        5.02654825e-01,  5.34070751e-01,  5.65486678e-01,  5.96902604e-01,\n",
       "        6.28318531e-01,  6.59734457e-01,  6.91150384e-01,  7.22566310e-01,\n",
       "        7.53982237e-01,  7.85398163e-01,  8.16814090e-01,  8.48230016e-01,\n",
       "        8.79645943e-01,  9.11061870e-01,  9.42477796e-01,  9.73893723e-01,\n",
       "        1.00530965e+00,  1.03672558e+00,  1.06814150e+00,  1.09955743e+00,\n",
       "        1.13097336e+00,  1.16238928e+00,  1.19380521e+00,  1.22522113e+00,\n",
       "        1.25663706e+00,  1.28805299e+00,  1.31946891e+00,  1.35088484e+00,\n",
       "        1.38230077e+00,  1.41371669e+00,  1.44513262e+00,  1.47654855e+00,\n",
       "        1.50796447e+00,  1.53938040e+00,  1.57079633e+00,  1.60221225e+00,\n",
       "        1.63362818e+00,  1.66504411e+00,  1.69646003e+00,  1.72787596e+00,\n",
       "        1.75929189e+00,  1.79070781e+00,  1.82212374e+00,  1.85353967e+00,\n",
       "        1.88495559e+00,  1.91637152e+00,  1.94778745e+00,  1.97920337e+00,\n",
       "        2.01061930e+00,  2.04203522e+00,  2.07345115e+00,  2.10486708e+00,\n",
       "        2.13628300e+00,  2.16769893e+00,  2.19911486e+00,  2.23053078e+00,\n",
       "        2.26194671e+00,  2.29336264e+00,  2.32477856e+00,  2.35619449e+00,\n",
       "        2.38761042e+00,  2.41902634e+00,  2.45044227e+00,  2.48185820e+00,\n",
       "        2.51327412e+00,  2.54469005e+00,  2.57610598e+00,  2.60752190e+00,\n",
       "        2.63893783e+00,  2.67035376e+00,  2.70176968e+00,  2.73318561e+00,\n",
       "        2.76460154e+00,  2.79601746e+00,  2.82743339e+00,  2.85884931e+00,\n",
       "        2.89026524e+00,  2.92168117e+00,  2.95309709e+00,  2.98451302e+00,\n",
       "        3.01592895e+00,  3.04734487e+00,  3.07876080e+00,  3.11017673e+00,\n",
       "        3.14159265e+00])"
      ]
     },
     "execution_count": 80,
     "metadata": {},
     "output_type": "execute_result"
    }
   ],
   "source": [
    "x=np.linspace(-np.pi,np.pi,201)\n",
    "x"
   ]
  },
  {
   "cell_type": "code",
   "execution_count": 81,
   "metadata": {},
   "outputs": [
    {
     "data": {
      "text/plain": [
       "[<matplotlib.lines.Line2D at 0x1b490c6dda0>]"
      ]
     },
     "execution_count": 81,
     "metadata": {},
     "output_type": "execute_result"
    },
    {
     "data": {
      "image/png": "[encoded data removed]",
      "text/plain": [
       "<Figure size 432x288 with 1 Axes>"
      ]
     },
     "metadata": {
      "needs_background": "light"
     },
     "output_type": "display_data"
    }
   ],
   "source": [
    "plt.plot(x, np.sin(x))"
   ]
  },
  {
   "cell_type": "code",
   "execution_count": 82,
   "metadata": {},
   "outputs": [
    {
     "data": {
      "image/png": "[encoded data removed]",
      "text/plain": [
       "<Figure size 432x288 with 1 Axes>"
      ]
     },
     "metadata": {
      "needs_background": "light"
     },
     "output_type": "display_data"
    }
   ],
   "source": [
    "plt.xlabel('Angle [rad]')\n",
    "plt.ylabel('sin(x)')\n",
    "plt.axis('tight')\n",
    "plt.plot(x,np.sin(x))\n",
    "plt.show()"
   ]
  },
  {
   "cell_type": "code",
   "execution_count": 89,
   "metadata": {},
   "outputs": [
    {
     "data": {
      "image/png": "[encoded data removed]",
      "text/plain": [
       "<Figure size 432x288 with 3 Axes>"
      ]
     },
     "metadata": {
      "needs_background": "light"
     },
     "output_type": "display_data"
    }
   ],
   "source": [
    "import matplotlib.pyplot as plt\n",
    "import numpy as np\n",
    "x=[5,2,9,4,7]\n",
    "y=[10,5,7,8,2]\n",
    "fig=plt.figure()\n",
    "a=fig.add_subplot(111)\n",
    "b=fig.add_subplot(122)\n",
    "c=fig.add_subplot(132)\n",
    "a.bar(x,y)\n",
    "b.barh(x,y)\n",
    "a.axvline(0.60)\n",
    "b.axhline(0.45)\n",
    "c.scatter(x,y)\n",
    "c.hist(y)\n",
    "plt.show()"
   ]
  },
  {
   "cell_type": "code",
   "execution_count": 96,
   "metadata": {},
   "outputs": [
    {
     "data": {
      "image/png": "[encoded data removed]",
      "text/plain": [
       "<Figure size 432x288 with 3 Axes>"
      ]
     },
     "metadata": {
      "needs_background": "light"
     },
     "output_type": "display_data"
    }
   ],
   "source": [
    "import matplotlib.pyplot as plt\n",
    "import numpy as np\n",
    "x=[5,2,9,4,7]\n",
    "y=[10,5,7,8,2]\n",
    "fig=plt.figure()\n",
    "a=fig.add_subplot(111)\n",
    "b=fig.add_subplot(132)\n",
    "c=fig.add_subplot(122)\n",
    "a.bar(x,y)\n",
    "b.barh(x,y)\n",
    "a.axvline(0.60)\n",
    "b.axhline(0.45)\n",
    "c.scatter(x,y)\n",
    "c.hist(y)\n",
    "plt.show()"
   ]
  },
  {
   "cell_type": "code",
   "execution_count": 90,
   "metadata": {},
   "outputs": [
    {
     "data": {
      "text/plain": [
       "array([[0.64541951, 0.94929423],\n",
       "       [0.92821227, 0.79829258],\n",
       "       [0.36723795, 0.62039307]])"
      ]
     },
     "execution_count": 90,
     "metadata": {},
     "output_type": "execute_result"
    }
   ],
   "source": [
    "k11=np.random.random(6).reshape(3,2)\n",
    "k11"
   ]
  },
  {
   "cell_type": "code",
   "execution_count": 97,
   "metadata": {},
   "outputs": [
    {
     "data": {
      "text/plain": [
       "array([[1., 1.],\n",
       "       [1., 1.],\n",
       "       [0., 1.]])"
      ]
     },
     "execution_count": 97,
     "metadata": {},
     "output_type": "execute_result"
    }
   ],
   "source": [
    "np.round(k11)"
   ]
  },
  {
   "cell_type": "code",
   "execution_count": 98,
   "metadata": {},
   "outputs": [
    {
     "data": {
      "text/plain": [
       "array([[1., 1.],\n",
       "       [1., 1.],\n",
       "       [1., 1.]])"
      ]
     },
     "execution_count": 98,
     "metadata": {},
     "output_type": "execute_result"
    }
   ],
   "source": [
    "np.ceil(k11)"
   ]
  },
  {
   "cell_type": "code",
   "execution_count": 99,
   "metadata": {},
   "outputs": [
    {
     "data": {
      "text/plain": [
       "array([[0., 0.],\n",
       "       [0., 0.],\n",
       "       [0., 0.]])"
      ]
     },
     "execution_count": 99,
     "metadata": {},
     "output_type": "execute_result"
    }
   ],
   "source": [
    "np.floor(k11)"
   ]
  },
  {
   "cell_type": "code",
   "execution_count": 100,
   "metadata": {},
   "outputs": [
    {
     "data": {
      "text/plain": [
       "0.3672379451734329"
      ]
     },
     "execution_count": 100,
     "metadata": {},
     "output_type": "execute_result"
    }
   ],
   "source": [
    "k11.min()"
   ]
  },
  {
   "cell_type": "code",
   "execution_count": 101,
   "metadata": {},
   "outputs": [
    {
     "data": {
      "text/plain": [
       "0.9492942297565217"
      ]
     },
     "execution_count": 101,
     "metadata": {},
     "output_type": "execute_result"
    }
   ],
   "source": [
    "k11.max()"
   ]
  },
  {
   "cell_type": "code",
   "execution_count": 102,
   "metadata": {},
   "outputs": [
    {
     "data": {
      "text/plain": [
       "0.7181416020693115"
      ]
     },
     "execution_count": 102,
     "metadata": {},
     "output_type": "execute_result"
    }
   ],
   "source": [
    "k11.mean()"
   ]
  },
  {
   "cell_type": "code",
   "execution_count": 103,
   "metadata": {},
   "outputs": [
    {
     "data": {
      "text/plain": [
       "0.20081585907715707"
      ]
     },
     "execution_count": 103,
     "metadata": {},
     "output_type": "execute_result"
    }
   ],
   "source": [
    "k11.std()"
   ]
  },
  {
   "cell_type": "code",
   "execution_count": 104,
   "metadata": {},
   "outputs": [
    {
     "data": {
      "text/plain": [
       "array([[0.76221298, 0.79809897, 0.9785664 , 0.65024462, 0.26504356]])"
      ]
     },
     "execution_count": 104,
     "metadata": {},
     "output_type": "execute_result"
    }
   ],
   "source": [
    "D1= np.random.random(5).reshape(1,5)\n",
    "D1"
   ]
  },
  {
   "cell_type": "code",
   "execution_count": 107,
   "metadata": {},
   "outputs": [
    {
     "data": {
      "text/plain": [
       "array([[0.27775087, 0.40324121, 0.94146291, 0.25914097, 0.75078463],\n",
       "       [0.21531428, 0.55281314, 0.085184  , 0.07105125, 0.55598397],\n",
       "       [0.3052742 , 0.87383406, 0.44533841, 0.57741147, 0.17286822],\n",
       "       [0.56982412, 0.78681699, 0.00913516, 0.79988633, 0.33418586]])"
      ]
     },
     "execution_count": 107,
     "metadata": {},
     "output_type": "execute_result"
    }
   ],
   "source": [
    "D1= np.random.random(20).reshape(4,5)\n",
    "D1"
   ]
  },
  {
   "cell_type": "code",
   "execution_count": 115,
   "metadata": {},
   "outputs": [
    {
     "name": "stdout",
     "output_type": "stream",
     "text": [
      "Original array\n",
      "[[10 40 15]\n",
      " [20 30 25]]\n",
      "After sorting with axis 0\n",
      "[[10 30 15]\n",
      " [20 40 25]]\n",
      "with axis 1\n",
      "[[10 15 40]\n",
      " [20 25 30]]\n",
      "without axis\n",
      "[[10 15 40]\n",
      " [20 25 30]]\n",
      "Collection of elements with axis None\n",
      "[10 15 20 25 30 40]\n"
     ]
    }
   ],
   "source": [
    "import numpy as np\n",
    "a=np.array([[10,40,15],\n",
    "            [20,30,25]])\n",
    "print('Original array')\n",
    "print(a)\n",
    "print('After sorting with axis 0')\n",
    "print(np.sort(a,axis=0))\n",
    "print('with axis 1')\n",
    "print(np.sort(a,axis=1))\n",
    "print('without axis')\n",
    "print(np.sort(a))\n",
    "print('Collection of elements with axis None')\n",
    "print(np.sort(a,axis=None))"
   ]
  },
  {
   "cell_type": "code",
   "execution_count": 132,
   "metadata": {},
   "outputs": [
    {
     "name": "stdout",
     "output_type": "stream",
     "text": [
      "Original array ['python' 'php' 'java' 'c++']\n",
      "New array:  ['pythonpythonpython' 'phpphpphp' 'javajavajava' 'c++c++c++']\n"
     ]
    }
   ],
   "source": [
    "#write a numpy program to repeat all the elements three times of given array of string\n",
    "#original:['python\"php\"java\"c++']\n",
    "#new:['pythonpythonpython\"phpphpphp\"javajavajava\"c++c++c++']\n",
    "import numpy as np\n",
    "a=np.array(['python','php','java','c++'])\n",
    "print('Original array',a)\n",
    "n=np.char.multiply(a,3)\n",
    "print('New array: ',n)"
   ]
  },
  {
   "cell_type": "code",
   "execution_count": 137,
   "metadata": {},
   "outputs": [
    {
     "name": "stdout",
     "output_type": "stream",
     "text": [
      "[[ 2  3  4]\n",
      " [ 5  6  7]\n",
      " [ 8  9 10]]\n"
     ]
    }
   ],
   "source": [
    "#write a numPy program to create a 3*3 matrix with values ranging from 2 to 10\n",
    "import numpy as np\n",
    "a=np.arange(2,11).reshape(3,3)\n",
    "print(a)"
   ]
  },
  {
   "cell_type": "code",
   "execution_count": 139,
   "metadata": {},
   "outputs": [
    {
     "name": "stdout",
     "output_type": "stream",
     "text": [
      "Original array:  [(b'james', 5, 48.5 ) (b'nail', 6, 52.5 ) (b'paul', 5, 46.6 )\n",
      " (b'pit', 5, 40.11)]\n",
      "sorted array by height:  [(b'pit', 5, 40.11) (b'paul', 5, 46.6 ) (b'james', 5, 48.5 )\n",
      " (b'nail', 6, 52.5 )]\n"
     ]
    }
   ],
   "source": [
    "#write a numpy program to create a structured array from given student name, height, class and thier data types. \n",
    "#Now sort the array on height\n",
    "import numpy as np\n",
    "data_type=[('name','S15'),('class',int),('height',float)]\n",
    "students_details=[('james',5,48.5),('nail',6,52.5),('paul',5,46.6),('pit',5,40.11)]\n",
    "#create structured array\n",
    "students=np.array(students_details,dtype=data_type)\n",
    "print('Original array: ',students)\n",
    "print('sorted array by height: ',np.sort(students,order='height'))"
   ]
  },
  {
   "cell_type": "code",
   "execution_count": null,
   "metadata": {},
   "outputs": [],
   "source": [
    "#write a program to display a bar chart of popularity of programing languages java,python ,php,c#,c++ \n",
    "#22.2,63.6,58.2,20.1,56.2,45,70\n",
    "x=['java','python','php','javascript','c#','c++']\n",
    "popularity=[22.22,17.6,8.8,8,7.7,6.7]\n",
    "x_pos=[i for i,_]"
   ]
  },
  {
   "cell_type": "code",
   "execution_count": null,
   "metadata": {},
   "outputs": [],
   "source": []
  }
 ],
 "metadata": {
  "kernelspec": {
   "display_name": "Python 3",
   "language": "python",
   "name": "python3"
  },
  "language_info": {
   "codemirror_mode": {
    "name": "ipython",
    "version": 3
   },
   "file_extension": ".py",
   "mimetype": "text/x-python",
   "name": "python",
   "nbconvert_exporter": "python",
   "pygments_lexer": "ipython3",
   "version": "3.7.3"
  }
 },
 "nbformat": 4,
 "nbformat_minor": 2
}
